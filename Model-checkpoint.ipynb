{
 "cells": [
  {
   "cell_type": "code",
   "execution_count": 1,
   "id": "471f031a",
   "metadata": {},
   "outputs": [
    {
     "ename": "ModuleNotFoundError",
     "evalue": "No module named 'tensorflow'",
     "output_type": "error",
     "traceback": [
      "\u001b[1;31m---------------------------------------------------------------------------\u001b[0m",
      "\u001b[1;31mModuleNotFoundError\u001b[0m                       Traceback (most recent call last)",
      "Cell \u001b[1;32mIn[1], line 2\u001b[0m\n\u001b[0;32m      1\u001b[0m \u001b[38;5;28;01mimport\u001b[39;00m \u001b[38;5;21;01mnumpy\u001b[39;00m \u001b[38;5;28;01mas\u001b[39;00m \u001b[38;5;21;01mnp\u001b[39;00m\n\u001b[1;32m----> 2\u001b[0m \u001b[38;5;28;01mimport\u001b[39;00m \u001b[38;5;21;01mtensorflow\u001b[39;00m \u001b[38;5;28;01mas\u001b[39;00m \u001b[38;5;21;01mtf\u001b[39;00m\n\u001b[0;32m      3\u001b[0m \u001b[38;5;28;01mimport\u001b[39;00m \u001b[38;5;21;01mos\u001b[39;00m\n\u001b[0;32m      4\u001b[0m \u001b[38;5;28;01mfrom\u001b[39;00m \u001b[38;5;21;01mtensorflow\u001b[39;00m \u001b[38;5;28;01mimport\u001b[39;00m keras\n",
      "\u001b[1;31mModuleNotFoundError\u001b[0m: No module named 'tensorflow'"
     ]
    }
   ],
   "source": [
    "import numpy as np\n",
    "import tensorflow as tf\n",
    "import os\n",
    "from tensorflow import keras\n",
    "from tensorflow.keras import layers\n",
    "from tensorflow.keras.preprocessing.image import ImageDataGenerator\n",
    "import matplotlib.pyplot as plt"
   ]
  },
  {
   "cell_type": "code",
   "execution_count": 2,
   "id": "1bb7e9de",
   "metadata": {},
   "outputs": [
    {
     "name": "stdout",
     "output_type": "stream",
     "text": [
      "Found 1835 files belonging to 30 classes.\n",
      "Using 1468 files for training.\n"
     ]
    }
   ],
   "source": [
    "train_data= keras.utils.image_dataset_from_directory('./Medicinal Leaf Images/',\n",
    "                                                    image_size=(224,224),\n",
    "                                                    batch_size=32,\n",
    "                                                    validation_split=0.2,\n",
    "                                                    subset='training',\n",
    "                                                    seed=42)"
   ]
  },
  {
   "cell_type": "code",
   "execution_count": 3,
   "id": "3dcd5359",
   "metadata": {},
   "outputs": [
    {
     "name": "stdout",
     "output_type": "stream",
     "text": [
      "Found 1835 files belonging to 30 classes.\n",
      "Using 367 files for validation.\n"
     ]
    }
   ],
   "source": [
    "test_data=keras.utils.image_dataset_from_directory('./Medicinal Leaf Images/',\n",
    "                                                  image_size=(224,224),\n",
    "                                                  batch_size=32,\n",
    "                                                  validation_split=0.2,\n",
    "                                                  subset='validation',\n",
    "                                                  seed=42)"
   ]
  },
  {
   "cell_type": "code",
   "execution_count": 4,
   "id": "9cfab3ed",
   "metadata": {},
   "outputs": [],
   "source": [
    "train_output_dir = './train_dataset'\n",
    "test_output_dir = './test_dataset'\n",
    "\n",
    "os.makedirs(train_output_dir, exist_ok=True)\n",
    "os.makedirs(test_output_dir, exist_ok=True)\n"
   ]
  },
  {
   "cell_type": "code",
   "execution_count": 5,
   "id": "0da9be78",
   "metadata": {},
   "outputs": [],
   "source": [
    "def save_dataset_to_folder(dataset, output_dir):\n",
    "    for images, labels in dataset:\n",
    "        for i in range(images.shape[0]):\n",
    "            image = images[i].numpy()\n",
    "            label = labels[i].numpy()\n",
    "            label_folder = os.path.join(output_dir, str(label))\n",
    "            \n",
    "            # Create label folder if it doesn't exist\n",
    "            os.makedirs(label_folder, exist_ok=True)\n",
    "            \n",
    "            # Normalize and save image to label folder\n",
    "            image = image / 255.0  # Normalize pixel values to the range [0, 1]\n",
    "            image_filename = f'image_{i}.png'\n",
    "            image_path = os.path.join(label_folder, image_filename)\n",
    "            plt.imsave(image_path, image)\n"
   ]
  },
  {
   "cell_type": "code",
   "execution_count": 6,
   "id": "118b2dd1",
   "metadata": {},
   "outputs": [],
   "source": [
    "save_dataset_to_folder(train_data, train_output_dir)"
   ]
  },
  {
   "cell_type": "code",
   "execution_count": 7,
   "id": "db36ab8a",
   "metadata": {},
   "outputs": [],
   "source": [
    "save_dataset_to_folder(test_data, test_output_dir)"
   ]
  },
  {
   "cell_type": "code",
   "execution_count": null,
   "id": "1c828662",
   "metadata": {},
   "outputs": [],
   "source": [
    "data_augmentation=ImageDataGenerator(rotation_range=20,\n",
    "                                    width_shift_range=0.2,\n",
    "                                    height_shift_range=0.2,\n",
    "                                    horizontal_flip=True,\n",
    "                                    zoom_range=0.1)"
   ]
  },
  {
   "cell_type": "code",
   "execution_count": 8,
   "id": "d87a9940",
   "metadata": {},
   "outputs": [
    {
     "name": "stdout",
     "output_type": "stream",
     "text": [
      "Downloading data from https://storage.googleapis.com/tensorflow/keras-applications/vgg16/vgg16_weights_tf_dim_ordering_tf_kernels_notop.h5\n",
      "58889256/58889256 [==============================] - 4s 0us/step\n"
     ]
    }
   ],
   "source": [
    "base_model=keras.applications.VGG16(weights='imagenet',\n",
    "                                         include_top=False,\n",
    "                                         input_shape=(224,224,3))"
   ]
  },
  {
   "cell_type": "code",
   "execution_count": 9,
   "id": "f5dc50bc",
   "metadata": {},
   "outputs": [
    {
     "name": "stdout",
     "output_type": "stream",
     "text": [
      "Model: \"sequential\"\n",
      "_________________________________________________________________\n",
      " Layer (type)                Output Shape              Param #   \n",
      "=================================================================\n",
      " vgg16 (Functional)          (None, 7, 7, 512)         14714688  \n",
      "                                                                 \n",
      " global_average_pooling2d (  (None, 512)               0         \n",
      " GlobalAveragePooling2D)                                         \n",
      "                                                                 \n",
      " dense (Dense)               (None, 256)               131328    \n",
      "                                                                 \n",
      " dropout (Dropout)           (None, 256)               0         \n",
      "                                                                 \n",
      " dense_1 (Dense)             (None, 30)                7710      \n",
      "                                                                 \n",
      "=================================================================\n",
      "Total params: 14853726 (56.66 MB)\n",
      "Trainable params: 14853726 (56.66 MB)\n",
      "Non-trainable params: 0 (0.00 Byte)\n",
      "_________________________________________________________________\n"
     ]
    }
   ],
   "source": [
    "num_classes=len(train_data.class_names)\n",
    "model = keras.Sequential()\n",
    "\n",
    "# Add the ResNet152 base\n",
    "model.add(base_model)\n",
    "\n",
    "# Add GlobalAveragePooling2D layer\n",
    "model.add(layers.GlobalAveragePooling2D())\n",
    "\n",
    "# Add Dense layer with, for example, 256 units and 'relu' activation\n",
    "model.add(layers.Dense(256, activation='relu'))\n",
    "\n",
    "# Add Dropout layer with a specified dropout rate, e.g., 0.5\n",
    "model.add(layers.Dropout(0.5))\n",
    "\n",
    "# You can add more Dense and Dropout layers as needed\n",
    "\n",
    "# Output layer (assuming binary classification, change units for multi-class)\n",
    "model.add(layers.Dense(units=num_classes, activation='softmax'))\n",
    "\n",
    "# Compile the model (adjust the optimizer, loss, and metrics as needed)\n",
    "model.compile(optimizer='adam', loss='sparse_categorical_crossentropy', metrics=['accuracy'])\n",
    "\n",
    "# Display the summary of the model\n",
    "model.summary()"
   ]
  },
  {
   "cell_type": "code",
   "execution_count": null,
   "id": "78374ce5",
   "metadata": {},
   "outputs": [
    {
     "name": "stdout",
     "output_type": "stream",
     "text": [
      "Epoch 1/5\n",
      "46/46 [==============================] - 1956s 42s/step - loss: 3.3962 - accuracy: 0.0525 - val_loss: 3.3950 - val_accuracy: 0.0545\n",
      "Epoch 2/5\n",
      "46/46 [==============================] - 4820s 106s/step - loss: 3.3851 - accuracy: 0.0749 - val_loss: 3.3899 - val_accuracy: 0.0545\n",
      "Epoch 3/5\n",
      "16/46 [=========>....................] - ETA: 30:25 - loss: 3.3790 - accuracy: 0.0645"
     ]
    }
   ],
   "source": [
    "history=model.fit(train_data, epochs=5,validation_data=test_data)"
   ]
  },
  {
   "cell_type": "code",
   "execution_count": 11,
   "id": "9fe8dd30",
   "metadata": {},
   "outputs": [
    {
     "name": "stderr",
     "output_type": "stream",
     "text": [
      "C:\\Users\\Admin\\anaconda3\\lib\\site-packages\\keras\\src\\engine\\training.py:3079: UserWarning: You are saving your model as an HDF5 file via `model.save()`. This file format is considered legacy. We recommend using instead the native Keras format, e.g. `model.save('my_model.keras')`.\n",
      "  saving_api.save_model(\n"
     ]
    }
   ],
   "source": [
    "model.save('model.h5')"
   ]
  },
  {
   "cell_type": "code",
   "execution_count": 12,
   "id": "30e33319",
   "metadata": {},
   "outputs": [
    {
     "data": {
      "image/png": "[encoded data removed]",
      "text/plain": [
       "<Figure size 1200x600 with 2 Axes>"
      ]
     },
     "metadata": {},
     "output_type": "display_data"
    }
   ],
   "source": [
    "plt.figure(figsize=(12, 6))\n",
    "plt.subplot(1, 2, 1)\n",
    "plt.plot(history.history['accuracy'], label='Training Accuracy')\n",
    "plt.plot(history.history['val_accuracy'], label='Validation Accuracy')\n",
    "plt.title('Training and Validation Accuracy')\n",
    "plt.xlabel('Epoch')\n",
    "plt.ylabel('Accuracy')\n",
    "plt.legend()\n",
    "\n",
    "# Plot training and validation loss\n",
    "plt.subplot(1, 2, 2)\n",
    "plt.plot(history.history['loss'], label='Training Loss')\n",
    "plt.plot(history.history['val_loss'], label='Validation Loss')\n",
    "plt.title('Training and Validation Loss')\n",
    "plt.xlabel('Epoch')\n",
    "plt.ylabel('Loss')\n",
    "plt.legend()\n",
    "\n",
    "# Show the plots\n",
    "plt.tight_layout()\n",
    "plt.show()"
   ]
  },
  {
   "cell_type": "code",
   "execution_count": null,
   "id": "6c3b0e14",
   "metadata": {},
   "outputs": [],
   "source": []
  }
 ],
 "metadata": {
  "kernelspec": {
   "display_name": "Python 3 (ipykernel)",
   "language": "python",
   "name": "python3"
  },
  "language_info": {
   "codemirror_mode": {
    "name": "ipython",
    "version": 3
   },
   "file_extension": ".py",
   "mimetype": "text/x-python",
   "name": "python",
   "nbconvert_exporter": "python",
   "pygments_lexer": "ipython3",
   "version": "3.10.9"
  }
 },
 "nbformat": 4,
 "nbformat_minor": 5
}
